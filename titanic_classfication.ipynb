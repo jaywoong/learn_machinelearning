{
  "nbformat": 4,
  "nbformat_minor": 5,
  "metadata": {
    "kernelspec": {
      "display_name": "Python 3",
      "language": "python",
      "name": "python3"
    },
    "language_info": {
      "codemirror_mode": {
        "name": "ipython",
        "version": 3
      },
      "file_extension": ".py",
      "mimetype": "text/x-python",
      "name": "python",
      "nbconvert_exporter": "python",
      "pygments_lexer": "ipython3",
      "version": "3.9.5"
    },
    "colab": {
      "name": "titanic_classfication.ipynb",
      "provenance": []
    }
  },
  "cells": [
    {
      "cell_type": "code",
      "metadata": {
        "id": "020a57a6"
      },
      "source": [
        "# !python -m pip install seaborn"
      ],
      "id": "020a57a6",
      "execution_count": null,
      "outputs": []
    },
    {
      "cell_type": "code",
      "metadata": {
        "id": "6ac34176"
      },
      "source": [
        "# %load_ext autoreload\n",
        "# %autoreload 2"
      ],
      "id": "6ac34176",
      "execution_count": null,
      "outputs": []
    },
    {
      "cell_type": "code",
      "metadata": {
        "id": "309d921f"
      },
      "source": [
        "import seaborn as sns"
      ],
      "id": "309d921f",
      "execution_count": null,
      "outputs": []
    },
    {
      "cell_type": "code",
      "metadata": {
        "id": "9565e4f2",
        "colab": {
          "base_uri": "https://localhost:8080/"
        },
        "outputId": "f4a87148-067d-4a9d-8cc7-f7a9321a08f1"
      },
      "source": [
        "df = sns.load_dataset('titanic')\n",
        "df.shape"
      ],
      "id": "9565e4f2",
      "execution_count": null,
      "outputs": [
        {
          "output_type": "execute_result",
          "data": {
            "text/plain": [
              "(891, 15)"
            ]
          },
          "metadata": {
            "tags": []
          },
          "execution_count": 2
        }
      ]
    },
    {
      "cell_type": "code",
      "metadata": {
        "id": "a0a8f2f0",
        "outputId": "2e488aa3-11e6-45c3-e320-1c2a5c66a671"
      },
      "source": [
        "df.info()"
      ],
      "id": "a0a8f2f0",
      "execution_count": null,
      "outputs": [
        {
          "output_type": "stream",
          "text": [
            "<class 'pandas.core.frame.DataFrame'>\n",
            "RangeIndex: 891 entries, 0 to 890\n",
            "Data columns (total 15 columns):\n",
            " #   Column       Non-Null Count  Dtype   \n",
            "---  ------       --------------  -----   \n",
            " 0   survived     891 non-null    int64   \n",
            " 1   pclass       891 non-null    int64   \n",
            " 2   sex          891 non-null    object  \n",
            " 3   age          714 non-null    float64 \n",
            " 4   sibsp        891 non-null    int64   \n",
            " 5   parch        891 non-null    int64   \n",
            " 6   fare         891 non-null    float64 \n",
            " 7   embarked     889 non-null    object  \n",
            " 8   class        891 non-null    category\n",
            " 9   who          891 non-null    object  \n",
            " 10  adult_male   891 non-null    bool    \n",
            " 11  deck         203 non-null    category\n",
            " 12  embark_town  889 non-null    object  \n",
            " 13  alive        891 non-null    object  \n",
            " 14  alone        891 non-null    bool    \n",
            "dtypes: bool(2), category(2), float64(2), int64(4), object(5)\n",
            "memory usage: 80.7+ KB\n"
          ],
          "name": "stdout"
        }
      ]
    },
    {
      "cell_type": "markdown",
      "metadata": {
        "id": "5655171d"
      },
      "source": [
        "survived, pclass, sibsp, parch, fare"
      ],
      "id": "5655171d"
    },
    {
      "cell_type": "code",
      "metadata": {
        "id": "51106f66",
        "colab": {
          "base_uri": "https://localhost:8080/"
        },
        "outputId": "2ec7933e-9bea-4546-ce94-a3b9782806d2"
      },
      "source": [
        "X = df[['pclass', 'sibsp', 'parch', 'fare']]\n",
        "Y = df[['survived']]\n",
        "X.shape, Y.shape"
      ],
      "id": "51106f66",
      "execution_count": null,
      "outputs": [
        {
          "output_type": "execute_result",
          "data": {
            "text/plain": [
              "((891, 4), (891, 1))"
            ]
          },
          "metadata": {
            "tags": []
          },
          "execution_count": 3
        }
      ]
    },
    {
      "cell_type": "code",
      "metadata": {
        "id": "dd1586ea"
      },
      "source": [
        "from sklearn.model_selection import train_test_split"
      ],
      "id": "dd1586ea",
      "execution_count": null,
      "outputs": []
    },
    {
      "cell_type": "code",
      "metadata": {
        "id": "ef751834",
        "colab": {
          "base_uri": "https://localhost:8080/"
        },
        "outputId": "e479cf78-e8ca-4854-d787-a31b491d899d"
      },
      "source": [
        "x_train, x_test, y_train, y_test = train_test_split(X, Y)\n",
        "x_train.shape, x_test.shape, y_train.shape, y_test.shape"
      ],
      "id": "ef751834",
      "execution_count": null,
      "outputs": [
        {
          "output_type": "execute_result",
          "data": {
            "text/plain": [
              "((668, 4), (223, 4), (668, 1), (223, 1))"
            ]
          },
          "metadata": {
            "tags": []
          },
          "execution_count": 5
        }
      ]
    },
    {
      "cell_type": "code",
      "metadata": {
        "id": "c6d85275"
      },
      "source": [
        "from sklearn.linear_model import LogisticRegression"
      ],
      "id": "c6d85275",
      "execution_count": null,
      "outputs": []
    },
    {
      "cell_type": "code",
      "metadata": {
        "id": "b85eab59",
        "colab": {
          "base_uri": "https://localhost:8080/"
        },
        "outputId": "eeecafe2-75ee-47e7-fbad-07cb3d86794a"
      },
      "source": [
        "logR = LogisticRegression()\n",
        "type(logR)"
      ],
      "id": "b85eab59",
      "execution_count": null,
      "outputs": [
        {
          "output_type": "execute_result",
          "data": {
            "text/plain": [
              "sklearn.linear_model._logistic.LogisticRegression"
            ]
          },
          "metadata": {
            "tags": []
          },
          "execution_count": 7
        }
      ]
    },
    {
      "cell_type": "code",
      "metadata": {
        "id": "2e1e356b",
        "colab": {
          "base_uri": "https://localhost:8080/"
        },
        "outputId": "957a4cdc-7d44-4b29-967a-8b10a66c085c"
      },
      "source": [
        "logR.fit(x_train, y_train)"
      ],
      "id": "2e1e356b",
      "execution_count": null,
      "outputs": [
        {
          "output_type": "stream",
          "text": [
            "/usr/local/lib/python3.7/dist-packages/sklearn/utils/validation.py:760: DataConversionWarning: A column-vector y was passed when a 1d array was expected. Please change the shape of y to (n_samples, ), for example using ravel().\n",
            "  y = column_or_1d(y, warn=True)\n"
          ],
          "name": "stderr"
        },
        {
          "output_type": "execute_result",
          "data": {
            "text/plain": [
              "LogisticRegression(C=1.0, class_weight=None, dual=False, fit_intercept=True,\n",
              "                   intercept_scaling=1, l1_ratio=None, max_iter=100,\n",
              "                   multi_class='auto', n_jobs=None, penalty='l2',\n",
              "                   random_state=None, solver='lbfgs', tol=0.0001, verbose=0,\n",
              "                   warm_start=False)"
            ]
          },
          "metadata": {
            "tags": []
          },
          "execution_count": 8
        }
      ]
    },
    {
      "cell_type": "code",
      "metadata": {
        "id": "fa9707bc",
        "colab": {
          "base_uri": "https://localhost:8080/"
        },
        "outputId": "0f72a5a5-581f-41fb-ba09-0415d58e7a63"
      },
      "source": [
        "logR.classes_"
      ],
      "id": "fa9707bc",
      "execution_count": null,
      "outputs": [
        {
          "output_type": "execute_result",
          "data": {
            "text/plain": [
              "array([0, 1])"
            ]
          },
          "metadata": {
            "tags": []
          },
          "execution_count": 9
        }
      ]
    },
    {
      "cell_type": "code",
      "metadata": {
        "id": "3852e351",
        "colab": {
          "base_uri": "https://localhost:8080/"
        },
        "outputId": "4475131a-9314-41dd-d0ac-fe5231803df6"
      },
      "source": [
        "logR.coef_\n",
        "# 'pclass', 'sibsp', 'parch', 'fare'"
      ],
      "id": "3852e351",
      "execution_count": null,
      "outputs": [
        {
          "output_type": "execute_result",
          "data": {
            "text/plain": [
              "array([[-0.69123381, -0.19953339,  0.28529442,  0.00475187]])"
            ]
          },
          "metadata": {
            "tags": []
          },
          "execution_count": 10
        }
      ]
    },
    {
      "cell_type": "code",
      "metadata": {
        "id": "9e8227b1",
        "colab": {
          "base_uri": "https://localhost:8080/"
        },
        "outputId": "bba7f520-2f31-4850-a3ff-de5d30781711"
      },
      "source": [
        "logR.score(x_train, y_train)"
      ],
      "id": "9e8227b1",
      "execution_count": null,
      "outputs": [
        {
          "output_type": "execute_result",
          "data": {
            "text/plain": [
              "0.6976047904191617"
            ]
          },
          "metadata": {
            "tags": []
          },
          "execution_count": 11
        }
      ]
    },
    {
      "cell_type": "code",
      "metadata": {
        "id": "166ce9aa",
        "colab": {
          "base_uri": "https://localhost:8080/"
        },
        "outputId": "f1374ced-67ae-455f-dc00-7d252172b88b"
      },
      "source": [
        "logR.predict(x_train)"
      ],
      "id": "166ce9aa",
      "execution_count": null,
      "outputs": [
        {
          "output_type": "execute_result",
          "data": {
            "text/plain": [
              "array([0, 0, 1, 0, 1, 0, 0, 0, 0, 0, 0, 1, 1, 0, 0, 0, 0, 0, 1, 1, 0, 0,\n",
              "       0, 0, 0, 0, 0, 1, 0, 0, 0, 0, 0, 0, 0, 0, 1, 0, 0, 1, 0, 1, 1, 0,\n",
              "       0, 0, 0, 1, 0, 1, 0, 0, 0, 1, 0, 0, 0, 0, 1, 1, 0, 0, 0, 0, 0, 0,\n",
              "       0, 1, 0, 0, 0, 0, 0, 0, 0, 1, 0, 1, 0, 0, 0, 0, 0, 1, 1, 0, 0, 1,\n",
              "       0, 0, 0, 0, 0, 0, 0, 0, 0, 0, 1, 1, 0, 1, 0, 0, 0, 0, 0, 0, 0, 0,\n",
              "       0, 0, 0, 0, 0, 0, 0, 0, 0, 0, 0, 0, 1, 1, 0, 0, 0, 1, 0, 0, 0, 1,\n",
              "       0, 0, 0, 0, 0, 0, 1, 0, 0, 1, 0, 0, 1, 0, 1, 0, 0, 1, 0, 0, 0, 0,\n",
              "       1, 1, 0, 1, 0, 0, 0, 0, 0, 0, 0, 1, 0, 0, 0, 0, 0, 0, 0, 0, 1, 0,\n",
              "       0, 0, 0, 0, 0, 0, 0, 0, 0, 1, 0, 0, 1, 1, 1, 0, 0, 0, 1, 0, 0, 0,\n",
              "       0, 1, 1, 0, 1, 1, 0, 0, 1, 0, 1, 0, 0, 1, 0, 0, 0, 0, 0, 0, 0, 1,\n",
              "       0, 1, 0, 0, 0, 1, 0, 0, 0, 0, 0, 0, 0, 0, 0, 0, 1, 0, 0, 0, 0, 0,\n",
              "       0, 0, 0, 0, 1, 0, 0, 1, 0, 1, 1, 0, 0, 0, 1, 1, 0, 0, 0, 0, 0, 0,\n",
              "       0, 0, 0, 0, 1, 0, 0, 1, 1, 1, 0, 0, 1, 0, 0, 0, 0, 0, 0, 1, 0, 0,\n",
              "       0, 1, 0, 1, 0, 0, 0, 0, 0, 0, 0, 1, 0, 0, 0, 0, 1, 0, 1, 1, 1, 0,\n",
              "       0, 1, 0, 0, 0, 0, 0, 1, 0, 1, 0, 0, 0, 1, 1, 0, 0, 0, 0, 0, 0, 0,\n",
              "       0, 1, 0, 0, 0, 0, 1, 0, 0, 0, 0, 1, 0, 0, 0, 0, 0, 0, 1, 1, 0, 0,\n",
              "       0, 1, 0, 0, 1, 0, 0, 0, 0, 1, 0, 0, 0, 1, 0, 0, 1, 0, 1, 1, 1, 0,\n",
              "       1, 0, 1, 0, 0, 0, 0, 0, 1, 0, 1, 0, 0, 0, 1, 0, 1, 0, 0, 0, 1, 0,\n",
              "       0, 0, 0, 0, 0, 0, 1, 0, 0, 0, 0, 1, 0, 0, 0, 1, 0, 1, 1, 0, 0, 0,\n",
              "       1, 0, 0, 0, 0, 1, 0, 1, 0, 1, 1, 0, 1, 0, 0, 0, 1, 0, 0, 1, 0, 0,\n",
              "       0, 0, 1, 1, 0, 0, 1, 0, 0, 0, 0, 1, 0, 0, 0, 0, 1, 0, 1, 1, 0, 1,\n",
              "       0, 0, 0, 0, 1, 0, 1, 1, 0, 0, 1, 0, 1, 0, 0, 0, 0, 1, 0, 0, 0, 0,\n",
              "       0, 1, 0, 0, 0, 0, 0, 0, 1, 0, 0, 1, 0, 0, 0, 0, 0, 0, 0, 0, 0, 0,\n",
              "       0, 1, 0, 0, 0, 0, 0, 1, 0, 0, 0, 1, 1, 0, 0, 0, 1, 0, 1, 1, 1, 1,\n",
              "       0, 0, 0, 0, 0, 0, 0, 0, 0, 0, 0, 0, 0, 0, 0, 0, 0, 0, 0, 0, 0, 0,\n",
              "       0, 1, 0, 0, 0, 0, 0, 0, 0, 1, 1, 1, 1, 0, 1, 1, 0, 0, 0, 1, 0, 0,\n",
              "       1, 0, 0, 0, 1, 0, 0, 0, 0, 0, 0, 1, 1, 0, 0, 0, 0, 1, 1, 0, 0, 0,\n",
              "       1, 1, 0, 1, 1, 0, 0, 0, 0, 1, 0, 0, 1, 0, 0, 0, 1, 0, 0, 0, 1, 1,\n",
              "       0, 0, 0, 0, 0, 0, 0, 0, 0, 1, 0, 1, 0, 1, 0, 0, 0, 1, 1, 0, 1, 1,\n",
              "       0, 0, 0, 0, 1, 0, 0, 1, 0, 1, 0, 0, 0, 0, 0, 1, 0, 0, 0, 0, 0, 0,\n",
              "       0, 1, 0, 0, 0, 0, 0, 1])"
            ]
          },
          "metadata": {
            "tags": []
          },
          "execution_count": 12
        }
      ]
    },
    {
      "cell_type": "code",
      "metadata": {
        "id": "cb14c83d",
        "colab": {
          "base_uri": "https://localhost:8080/"
        },
        "outputId": "f20cb17e-2b23-42df-cac6-571c61470089"
      },
      "source": [
        "logR.predict_proba(x_train)"
      ],
      "id": "cb14c83d",
      "execution_count": null,
      "outputs": [
        {
          "output_type": "execute_result",
          "data": {
            "text/plain": [
              "array([[0.77033555, 0.22966445],\n",
              "       [0.77011134, 0.22988866],\n",
              "       [0.42964106, 0.57035894],\n",
              "       ...,\n",
              "       [0.7694727 , 0.2305273 ],\n",
              "       [0.7115198 , 0.2884802 ],\n",
              "       [0.42350834, 0.57649166]])"
            ]
          },
          "metadata": {
            "tags": []
          },
          "execution_count": 13
        }
      ]
    },
    {
      "cell_type": "code",
      "metadata": {
        "id": "becb0e85",
        "colab": {
          "base_uri": "https://localhost:8080/"
        },
        "outputId": "08723cca-04b1-4d04-8739-0f593986ac9f"
      },
      "source": [
        "logR.predict_proba(x_train[10:13])"
      ],
      "id": "becb0e85",
      "execution_count": null,
      "outputs": [
        {
          "output_type": "execute_result",
          "data": {
            "text/plain": [
              "array([[0.61862835, 0.38137165],\n",
              "       [0.43080589, 0.56919411],\n",
              "       [0.37464139, 0.62535861]])"
            ]
          },
          "metadata": {
            "tags": []
          },
          "execution_count": 14
        }
      ]
    },
    {
      "cell_type": "code",
      "metadata": {
        "id": "a276f16f",
        "colab": {
          "base_uri": "https://localhost:8080/"
        },
        "outputId": "52d53216-47a0-4649-ff12-8778eee8d1c4"
      },
      "source": [
        "0.41873577+0.58126423"
      ],
      "id": "a276f16f",
      "execution_count": null,
      "outputs": [
        {
          "output_type": "execute_result",
          "data": {
            "text/plain": [
              "1.0"
            ]
          },
          "metadata": {
            "tags": []
          },
          "execution_count": 15
        }
      ]
    },
    {
      "cell_type": "code",
      "metadata": {
        "id": "7493a526",
        "colab": {
          "base_uri": "https://localhost:8080/"
        },
        "outputId": "ec6c9330-1678-4596-dd89-85915dc0e0e2"
      },
      "source": [
        "logR.predict(x_train[10:13])"
      ],
      "id": "7493a526",
      "execution_count": null,
      "outputs": [
        {
          "output_type": "execute_result",
          "data": {
            "text/plain": [
              "array([0, 1, 1])"
            ]
          },
          "metadata": {
            "tags": []
          },
          "execution_count": 16
        }
      ]
    },
    {
      "cell_type": "code",
      "metadata": {
        "id": "67bdd609",
        "colab": {
          "base_uri": "https://localhost:8080/"
        },
        "outputId": "5f439036-086c-4ba0-857e-6bf5806d7972"
      },
      "source": [
        "print('hello')"
      ],
      "id": "67bdd609",
      "execution_count": null,
      "outputs": [
        {
          "output_type": "stream",
          "text": [
            "hello\n"
          ],
          "name": "stdout"
        }
      ]
    },
    {
      "cell_type": "code",
      "metadata": {
        "id": "089ce625"
      },
      "source": [
        ""
      ],
      "id": "089ce625",
      "execution_count": null,
      "outputs": []
    }
  ]
}